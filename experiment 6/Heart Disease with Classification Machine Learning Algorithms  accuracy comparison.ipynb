{
 "cells": [
  {
   "cell_type": "code",
   "execution_count": 18,
   "id": "215b4ec9",
   "metadata": {},
   "outputs": [],
   "source": [
    "import pandas as pd\n",
    "import numpy as np"
   ]
  },
  {
   "cell_type": "code",
   "execution_count": 19,
   "id": "af4971f0",
   "metadata": {},
   "outputs": [],
   "source": [
    "df=pd.read_csv('heartDisease.csv')"
   ]
  },
  {
   "cell_type": "code",
   "execution_count": 20,
   "id": "ac3f9173",
   "metadata": {},
   "outputs": [
    {
     "data": {
      "text/html": [
       "<div>\n",
       "<style scoped>\n",
       "    .dataframe tbody tr th:only-of-type {\n",
       "        vertical-align: middle;\n",
       "    }\n",
       "\n",
       "    .dataframe tbody tr th {\n",
       "        vertical-align: top;\n",
       "    }\n",
       "\n",
       "    .dataframe thead th {\n",
       "        text-align: right;\n",
       "    }\n",
       "</style>\n",
       "<table border=\"1\" class=\"dataframe\">\n",
       "  <thead>\n",
       "    <tr style=\"text-align: right;\">\n",
       "      <th></th>\n",
       "      <th>age</th>\n",
       "      <th>sex</th>\n",
       "      <th>cp</th>\n",
       "      <th>trestbps</th>\n",
       "      <th>chol</th>\n",
       "      <th>fbs</th>\n",
       "      <th>restecg</th>\n",
       "      <th>thalach</th>\n",
       "      <th>exang</th>\n",
       "      <th>oldpeak</th>\n",
       "      <th>slope</th>\n",
       "      <th>ca</th>\n",
       "      <th>thal</th>\n",
       "      <th>target</th>\n",
       "    </tr>\n",
       "  </thead>\n",
       "  <tbody>\n",
       "    <tr>\n",
       "      <th>0</th>\n",
       "      <td>63</td>\n",
       "      <td>1</td>\n",
       "      <td>3</td>\n",
       "      <td>145</td>\n",
       "      <td>233</td>\n",
       "      <td>1</td>\n",
       "      <td>0</td>\n",
       "      <td>150</td>\n",
       "      <td>0</td>\n",
       "      <td>2.3</td>\n",
       "      <td>0</td>\n",
       "      <td>0</td>\n",
       "      <td>1</td>\n",
       "      <td>1</td>\n",
       "    </tr>\n",
       "    <tr>\n",
       "      <th>1</th>\n",
       "      <td>37</td>\n",
       "      <td>1</td>\n",
       "      <td>2</td>\n",
       "      <td>130</td>\n",
       "      <td>250</td>\n",
       "      <td>0</td>\n",
       "      <td>1</td>\n",
       "      <td>187</td>\n",
       "      <td>0</td>\n",
       "      <td>3.5</td>\n",
       "      <td>0</td>\n",
       "      <td>0</td>\n",
       "      <td>2</td>\n",
       "      <td>1</td>\n",
       "    </tr>\n",
       "    <tr>\n",
       "      <th>2</th>\n",
       "      <td>41</td>\n",
       "      <td>0</td>\n",
       "      <td>1</td>\n",
       "      <td>130</td>\n",
       "      <td>204</td>\n",
       "      <td>0</td>\n",
       "      <td>0</td>\n",
       "      <td>172</td>\n",
       "      <td>0</td>\n",
       "      <td>1.4</td>\n",
       "      <td>2</td>\n",
       "      <td>0</td>\n",
       "      <td>2</td>\n",
       "      <td>1</td>\n",
       "    </tr>\n",
       "    <tr>\n",
       "      <th>3</th>\n",
       "      <td>56</td>\n",
       "      <td>1</td>\n",
       "      <td>1</td>\n",
       "      <td>120</td>\n",
       "      <td>236</td>\n",
       "      <td>0</td>\n",
       "      <td>1</td>\n",
       "      <td>178</td>\n",
       "      <td>0</td>\n",
       "      <td>0.8</td>\n",
       "      <td>2</td>\n",
       "      <td>0</td>\n",
       "      <td>2</td>\n",
       "      <td>1</td>\n",
       "    </tr>\n",
       "    <tr>\n",
       "      <th>4</th>\n",
       "      <td>57</td>\n",
       "      <td>0</td>\n",
       "      <td>0</td>\n",
       "      <td>120</td>\n",
       "      <td>354</td>\n",
       "      <td>0</td>\n",
       "      <td>1</td>\n",
       "      <td>163</td>\n",
       "      <td>1</td>\n",
       "      <td>0.6</td>\n",
       "      <td>2</td>\n",
       "      <td>0</td>\n",
       "      <td>2</td>\n",
       "      <td>1</td>\n",
       "    </tr>\n",
       "  </tbody>\n",
       "</table>\n",
       "</div>"
      ],
      "text/plain": [
       "   age  sex  cp  trestbps  chol  fbs  restecg  thalach  exang  oldpeak  slope  \\\n",
       "0   63    1   3       145   233    1        0      150      0      2.3      0   \n",
       "1   37    1   2       130   250    0        1      187      0      3.5      0   \n",
       "2   41    0   1       130   204    0        0      172      0      1.4      2   \n",
       "3   56    1   1       120   236    0        1      178      0      0.8      2   \n",
       "4   57    0   0       120   354    0        1      163      1      0.6      2   \n",
       "\n",
       "   ca  thal  target  \n",
       "0   0     1       1  \n",
       "1   0     2       1  \n",
       "2   0     2       1  \n",
       "3   0     2       1  \n",
       "4   0     2       1  "
      ]
     },
     "execution_count": 20,
     "metadata": {},
     "output_type": "execute_result"
    }
   ],
   "source": [
    "df.head()"
   ]
  },
  {
   "cell_type": "code",
   "execution_count": 21,
   "id": "46cd4332",
   "metadata": {},
   "outputs": [],
   "source": [
    "X = df.iloc[:, :-1].values\n",
    "y = df.iloc[:, -1].values"
   ]
  },
  {
   "cell_type": "code",
   "execution_count": 22,
   "id": "17a16325",
   "metadata": {},
   "outputs": [],
   "source": [
    "from sklearn.model_selection import train_test_split\n",
    "x_train, x_test, y_train, y_test = train_test_split(X,y,test_size = 0.2, random_state = 1)  "
   ]
  },
  {
   "cell_type": "code",
   "execution_count": 23,
   "id": "ee2e4f53",
   "metadata": {},
   "outputs": [],
   "source": [
    "from sklearn.preprocessing import StandardScaler\n",
    "sc = StandardScaler()\n",
    "x_train = sc.fit_transform(x_train)\n",
    "x_test = sc.transform(x_test)"
   ]
  },
  {
   "cell_type": "markdown",
   "id": "cdfa5ff2",
   "metadata": {},
   "source": [
    "Model 1: Logistic Regression"
   ]
  },
  {
   "cell_type": "code",
   "execution_count": 24,
   "id": "c8d13924",
   "metadata": {},
   "outputs": [
    {
     "name": "stdout",
     "output_type": "stream",
     "text": [
      "              precision    recall  f1-score   support\n",
      "\n",
      "           0       0.77      0.67      0.71        30\n",
      "           1       0.71      0.81      0.76        31\n",
      "\n",
      "    accuracy                           0.74        61\n",
      "   macro avg       0.74      0.74      0.74        61\n",
      "weighted avg       0.74      0.74      0.74        61\n",
      "\n"
     ]
    }
   ],
   "source": [
    "from sklearn.metrics import classification_report \n",
    "from sklearn.linear_model import LogisticRegression\n",
    "\n",
    "model1 = LogisticRegression(random_state=1) # get instance of model\n",
    "model1.fit(x_train, y_train) # Train/Fit model \n",
    "\n",
    "y_pred1 = model1.predict(x_test) # get y predictions\n",
    "print(classification_report(y_test, y_pred1)) # output accuracy"
   ]
  },
  {
   "cell_type": "markdown",
   "id": "d6e36e99",
   "metadata": {},
   "source": [
    "Model 2: K-NN (K-Nearest Neighbors)"
   ]
  },
  {
   "cell_type": "code",
   "execution_count": 25,
   "id": "3a9759de",
   "metadata": {},
   "outputs": [
    {
     "name": "stdout",
     "output_type": "stream",
     "text": [
      "              precision    recall  f1-score   support\n",
      "\n",
      "           0       0.78      0.70      0.74        30\n",
      "           1       0.74      0.81      0.77        31\n",
      "\n",
      "    accuracy                           0.75        61\n",
      "   macro avg       0.76      0.75      0.75        61\n",
      "weighted avg       0.76      0.75      0.75        61\n",
      "\n"
     ]
    }
   ],
   "source": [
    "from sklearn.metrics import classification_report \n",
    "from sklearn.neighbors import KNeighborsClassifier\n",
    "\n",
    "model2 = KNeighborsClassifier() # get instance of model\n",
    "model2.fit(x_train, y_train) # Train/Fit model \n",
    "\n",
    "y_pred2 = model2.predict(x_test) # get y predictions\n",
    "print(classification_report(y_test, y_pred2)) # output accuracy"
   ]
  },
  {
   "cell_type": "markdown",
   "id": "e31040f4",
   "metadata": {},
   "source": [
    "Model 3: SVM (Support Vector Machine)"
   ]
  },
  {
   "cell_type": "code",
   "execution_count": 26,
   "id": "06433cd4",
   "metadata": {},
   "outputs": [
    {
     "name": "stdout",
     "output_type": "stream",
     "text": [
      "              precision    recall  f1-score   support\n",
      "\n",
      "           0       0.80      0.67      0.73        30\n",
      "           1       0.72      0.84      0.78        31\n",
      "\n",
      "    accuracy                           0.75        61\n",
      "   macro avg       0.76      0.75      0.75        61\n",
      "weighted avg       0.76      0.75      0.75        61\n",
      "\n"
     ]
    }
   ],
   "source": [
    "from sklearn.metrics import classification_report \n",
    "from sklearn.svm import SVC\n",
    "\n",
    "model3 = SVC(random_state=1) # get instance of model\n",
    "model3.fit(x_train, y_train) # Train/Fit model \n",
    "\n",
    "y_pred3 = model3.predict(x_test) # get y predictions\n",
    "print(classification_report(y_test, y_pred3)) # output accuracy"
   ]
  },
  {
   "cell_type": "markdown",
   "id": "6824ee42",
   "metadata": {},
   "source": [
    "Model 4: Naives Bayes Classifier"
   ]
  },
  {
   "cell_type": "code",
   "execution_count": 27,
   "id": "2a16257d",
   "metadata": {},
   "outputs": [
    {
     "name": "stdout",
     "output_type": "stream",
     "text": [
      "              precision    recall  f1-score   support\n",
      "\n",
      "           0       0.79      0.73      0.76        30\n",
      "           1       0.76      0.81      0.78        31\n",
      "\n",
      "    accuracy                           0.77        61\n",
      "   macro avg       0.77      0.77      0.77        61\n",
      "weighted avg       0.77      0.77      0.77        61\n",
      "\n"
     ]
    }
   ],
   "source": [
    "from sklearn.metrics import classification_report \n",
    "from sklearn.naive_bayes import GaussianNB\n",
    "\n",
    "model4 = GaussianNB() # get instance of model\n",
    "model4.fit(x_train, y_train) # Train/Fit model \n",
    "\n",
    "y_pred4 = model4.predict(x_test) # get y predictions\n",
    "print(classification_report(y_test, y_pred4)) # output accuracy"
   ]
  },
  {
   "cell_type": "markdown",
   "id": "d5c7be5e",
   "metadata": {},
   "source": [
    "Model 5: Decision Trees"
   ]
  },
  {
   "cell_type": "code",
   "execution_count": 28,
   "id": "e33acce2",
   "metadata": {},
   "outputs": [
    {
     "name": "stdout",
     "output_type": "stream",
     "text": [
      "              precision    recall  f1-score   support\n",
      "\n",
      "           0       0.68      0.70      0.69        30\n",
      "           1       0.70      0.68      0.69        31\n",
      "\n",
      "    accuracy                           0.69        61\n",
      "   macro avg       0.69      0.69      0.69        61\n",
      "weighted avg       0.69      0.69      0.69        61\n",
      "\n"
     ]
    }
   ],
   "source": [
    "from sklearn.metrics import classification_report \n",
    "from sklearn.tree import DecisionTreeClassifier\n",
    "\n",
    "model5 = DecisionTreeClassifier(random_state=1) # get instance of model\n",
    "model5.fit(x_train, y_train) # Train/Fit model \n",
    "\n",
    "y_pred5 = model5.predict(x_test) # get y predictions\n",
    "print(classification_report(y_test, y_pred5)) # output accuracy"
   ]
  },
  {
   "cell_type": "markdown",
   "id": "b31389f4",
   "metadata": {},
   "source": [
    "Model 6: Random Forest"
   ]
  },
  {
   "cell_type": "code",
   "execution_count": 29,
   "id": "95361ab8",
   "metadata": {},
   "outputs": [
    {
     "name": "stdout",
     "output_type": "stream",
     "text": [
      "              precision    recall  f1-score   support\n",
      "\n",
      "           0       0.88      0.70      0.78        30\n",
      "           1       0.76      0.90      0.82        31\n",
      "\n",
      "    accuracy                           0.80        61\n",
      "   macro avg       0.82      0.80      0.80        61\n",
      "weighted avg       0.81      0.80      0.80        61\n",
      "\n"
     ]
    }
   ],
   "source": [
    "from sklearn.metrics import classification_report \n",
    "from sklearn.ensemble import RandomForestClassifier\n",
    "\n",
    "model6 = RandomForestClassifier(random_state=1)# get instance of model\n",
    "model6.fit(x_train, y_train) # Train/Fit model \n",
    "\n",
    "y_pred6 = model6.predict(x_test) # get y predictions\n",
    "print(classification_report(y_test, y_pred6)) # output accuracy"
   ]
  },
  {
   "cell_type": "markdown",
   "id": "7264af48",
   "metadata": {},
   "source": [
    "Model 7: XGBoost"
   ]
  },
  {
   "cell_type": "code",
   "execution_count": 30,
   "id": "70bd01fe",
   "metadata": {},
   "outputs": [
    {
     "name": "stdout",
     "output_type": "stream",
     "text": [
      "              precision    recall  f1-score   support\n",
      "\n",
      "           0       0.84      0.70      0.76        30\n",
      "           1       0.75      0.87      0.81        31\n",
      "\n",
      "    accuracy                           0.79        61\n",
      "   macro avg       0.79      0.79      0.78        61\n",
      "weighted avg       0.79      0.79      0.79        61\n",
      "\n"
     ]
    }
   ],
   "source": [
    "from xgboost import XGBClassifier\n",
    "\n",
    "model7 = XGBClassifier(random_state=1)\n",
    "model7.fit(x_train, y_train)\n",
    "y_pred7 = model7.predict(x_test)\n",
    "print(classification_report(y_test, y_pred7))"
   ]
  },
  {
   "cell_type": "markdown",
   "id": "915b6ace",
   "metadata": {},
   "source": [
    "# Making the Confusion Matrix"
   ]
  },
  {
   "cell_type": "code",
   "execution_count": 31,
   "id": "cea9f20e",
   "metadata": {},
   "outputs": [
    {
     "name": "stdout",
     "output_type": "stream",
     "text": [
      "[[21  9]\n",
      " [ 3 28]]\n"
     ]
    },
    {
     "data": {
      "text/plain": [
       "0.8032786885245902"
      ]
     },
     "execution_count": 31,
     "metadata": {},
     "output_type": "execute_result"
    }
   ],
   "source": [
    "from sklearn.metrics import confusion_matrix, accuracy_score\n",
    "cm = confusion_matrix(y_test, y_pred6)\n",
    "print(cm)\n",
    "accuracy_score(y_test, y_pred6)"
   ]
  },
  {
   "cell_type": "markdown",
   "id": "33b4c28c",
   "metadata": {},
   "source": [
    "Our Random Forest algorithm yields the highest accuracy, 80%. Any accuracy above 70% is considered good, but be careful because if your accuracy is extremly high, it may be too good to be true (an example of Overfitting). Thus, 80% is the ideal accuracy!\n",
    "\n"
   ]
  },
  {
   "cell_type": "code",
   "execution_count": null,
   "id": "63243dda",
   "metadata": {},
   "outputs": [],
   "source": []
  },
  {
   "cell_type": "code",
   "execution_count": null,
   "id": "1efd20b7",
   "metadata": {},
   "outputs": [],
   "source": []
  }
 ],
 "metadata": {
  "kernelspec": {
   "display_name": "Python 3 (ipykernel)",
   "language": "python",
   "name": "python3"
  },
  "language_info": {
   "codemirror_mode": {
    "name": "ipython",
    "version": 3
   },
   "file_extension": ".py",
   "mimetype": "text/x-python",
   "name": "python",
   "nbconvert_exporter": "python",
   "pygments_lexer": "ipython3",
   "version": "3.9.12"
  }
 },
 "nbformat": 4,
 "nbformat_minor": 5
}
